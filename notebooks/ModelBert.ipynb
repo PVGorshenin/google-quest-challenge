{
 "cells": [
  {
   "cell_type": "code",
   "execution_count": 1,
   "metadata": {
    "ExecuteTime": {
     "end_time": "2020-01-31T12:10:14.944731Z",
     "start_time": "2020-01-31T12:10:14.041608Z"
    }
   },
   "outputs": [
    {
     "data": {
      "text/html": [
       "<style>.container {width: 100% !important;}</style>"
      ],
      "text/plain": [
       "<IPython.core.display.HTML object>"
      ]
     },
     "metadata": {},
     "output_type": "display_data"
    }
   ],
   "source": [
    "import pandas as pd\n",
    "import numpy as np\n",
    "from scipy.stats import spearmanr\n",
    "from torch.nn import BCEWithLogitsLoss, BCELoss\n",
    "from tqdm import tqdm_notebook\n",
    "\n",
    "from IPython.core.display import display, HTML\n",
    "display(HTML(\"<style>.container {width: 100% !important;}</style>\"))\n",
    "pd.set_option('display.max_rows', -1)\n",
    "pd.set_option('display.max_columns', 100)\n",
    "\n",
    "%run ../chicm/model.py\n",
    "%run ../chicm/loader.py\n",
    "%run ../lib/checks.py\n",
    "%run ../lib/train_class_edition.py\n",
    "%run ../lib/common_.py\n",
    "%run ../lib/optim.py\n",
    "%run ../lib/read_pandas.py\n",
    "\n",
    "DEVICE = torch.device('cuda')"
   ]
  },
  {
   "cell_type": "markdown",
   "metadata": {
    "heading_collapsed": true
   },
   "source": [
    "### Заметки"
   ]
  },
  {
   "cell_type": "raw",
   "metadata": {
    "hidden": true
   },
   "source": [
    "бусты над эмбедингами\n",
    "проэкспериментировать с lr\n",
    "тест всего и вся\n",
    "придумать новую метрику, возможно аук"
   ]
  },
  {
   "cell_type": "markdown",
   "metadata": {},
   "source": [
    "### Train part"
   ]
  },
  {
   "cell_type": "code",
   "execution_count": 2,
   "metadata": {
    "ExecuteTime": {
     "end_time": "2020-01-31T12:10:15.052546Z",
     "start_time": "2020-01-31T12:10:14.946160Z"
    }
   },
   "outputs": [
    {
     "name": "stdout",
     "output_type": "stream",
     "text": [
      "(6079, 41)\n"
     ]
    }
   ],
   "source": [
    "train = pd.read_csv('../data/train.csv')\n",
    "submission = pd.read_csv('../data/sample_submission.csv')\n",
    "print(train.shape)\n",
    "target_columns = submission.columns.values[1:].tolist()     "
   ]
  },
  {
   "cell_type": "code",
   "execution_count": 3,
   "metadata": {
    "ExecuteTime": {
     "end_time": "2020-01-31T12:10:15.057249Z",
     "start_time": "2020-01-31T12:10:15.054089Z"
    }
   },
   "outputs": [],
   "source": [
    "model_params = {\n",
    "    'dropout': .2,\n",
    "    'tokenizer': 'bert-base-cased',\n",
    "    'lr': 3e-5\n",
    "}\n",
    "\n",
    "kfold_params = {\n",
    "    'random_state': 66,\n",
    "    'split_ratio': .8\n",
    "}"
   ]
  },
  {
   "cell_type": "code",
   "execution_count": 4,
   "metadata": {
    "ExecuteTime": {
     "end_time": "2020-01-31T12:10:22.157957Z",
     "start_time": "2020-01-31T12:10:15.058659Z"
    }
   },
   "outputs": [
    {
     "name": "stdout",
     "output_type": "stream",
     "text": [
      "1216\n"
     ]
    }
   ],
   "source": [
    "train_loader, val_loader = get_train_val_loaders(train, \n",
    "                                                 target_columns,\n",
    "                                                 random_state=kfold_params['random_state'],\n",
    "                                                 split_ratio=kfold_params['split_ratio'],\n",
    "                                                 tokenizer=model_params['tokenizer'])\n",
    "model = QuestModel(n_classes=30,\n",
    "                   dropout=model_params['dropout'],\n",
    "                   tokenizer=model_params['tokenizer']).cuda()\n",
    "\n",
    "loss = BCEWithLogitsLoss().cuda()\n",
    "optimizer = configure_optimizers(model, model_params['lr'])"
   ]
  },
  {
   "cell_type": "code",
   "execution_count": 5,
   "metadata": {
    "ExecuteTime": {
     "end_time": "2020-01-31T12:10:22.161016Z",
     "start_time": "2020-01-31T12:10:22.158990Z"
    },
    "code_folding": []
   },
   "outputs": [],
   "source": [
    "# def create_model(model_file):\n",
    "#     model = QuestModel()\n",
    "#     model.load_state_dict(torch.load(model_file))\n",
    "#     model = model.cuda()\n",
    "#     return model   \n",
    "# model = create_model('../data/result/01-23-12/models/bert_model_epoch9')"
   ]
  },
  {
   "cell_type": "code",
   "execution_count": 6,
   "metadata": {
    "ExecuteTime": {
     "end_time": "2020-01-31T12:10:22.170392Z",
     "start_time": "2020-01-31T12:10:22.162653Z"
    }
   },
   "outputs": [],
   "source": [
    "trainer = BertPredictor(model,\n",
    "                        train_loader,\n",
    "                        loss, \n",
    "                        optimizer,\n",
    "                        val_loader=val_loader,\n",
    "                        split_rand_state=kfold_params['random_state'],\n",
    "                        epochs_count=8)"
   ]
  },
  {
   "cell_type": "code",
   "execution_count": 7,
   "metadata": {
    "ExecuteTime": {
     "end_time": "2020-01-31T13:10:54.690873Z",
     "start_time": "2020-01-31T12:10:22.171645Z"
    },
    "scrolled": true
   },
   "outputs": [
    {
     "name": "stderr",
     "output_type": "stream",
     "text": [
      "[1 / 8] Train: Loss = 0.41626:  58%|█████▊    | 700/1215 [03:44<02:52,  2.98it/s]"
     ]
    },
    {
     "name": "stdout",
     "output_type": "stream",
     "text": [
      "0.16789390283780048\n",
      "val_score --> 0.25314639640629166\n"
     ]
    },
    {
     "name": "stderr",
     "output_type": "stream",
     "text": [
      "[1 / 8] Train: Loss = 0.40543: 100%|██████████| 1215/1215 [06:59<00:00,  2.90it/s] \n",
      "  0%|          | 0/1215 [00:00<?, ?it/s]"
     ]
    },
    {
     "name": "stdout",
     "output_type": "stream",
     "text": [
      "val_score --> 0.2905770620040772\n"
     ]
    },
    {
     "name": "stderr",
     "output_type": "stream",
     "text": [
      "[2 / 8] Train: Loss = 0.36092:  58%|█████▊    | 700/1215 [03:38<02:40,  3.20it/s]"
     ]
    },
    {
     "name": "stdout",
     "output_type": "stream",
     "text": [
      "0.32348137412589956\n",
      "val_score --> 0.32023943421782247\n"
     ]
    },
    {
     "name": "stderr",
     "output_type": "stream",
     "text": [
      "[2 / 8] Train: Loss = 0.37257: 100%|██████████| 1215/1215 [06:58<00:00,  2.90it/s] \n",
      "  0%|          | 0/1215 [00:00<?, ?it/s]"
     ]
    },
    {
     "name": "stdout",
     "output_type": "stream",
     "text": [
      "val_score --> 0.32790461131787657\n"
     ]
    },
    {
     "name": "stderr",
     "output_type": "stream",
     "text": [
      "[3 / 8] Train: Loss = 0.30364:  58%|█████▊    | 700/1215 [03:39<02:40,  3.22it/s]"
     ]
    },
    {
     "name": "stdout",
     "output_type": "stream",
     "text": [
      "0.3834597364663297\n",
      "val_score --> 0.34378455993550905\n"
     ]
    },
    {
     "name": "stderr",
     "output_type": "stream",
     "text": [
      "[3 / 8] Train: Loss = 0.35936: 100%|██████████| 1215/1215 [06:58<00:00,  2.90it/s] \n",
      "  0%|          | 0/1215 [00:00<?, ?it/s]"
     ]
    },
    {
     "name": "stdout",
     "output_type": "stream",
     "text": [
      "val_score --> 0.35727821540925564\n"
     ]
    },
    {
     "name": "stderr",
     "output_type": "stream",
     "text": [
      "[4 / 8] Train: Loss = 0.39186:  58%|█████▊    | 700/1215 [03:38<02:39,  3.22it/s]"
     ]
    },
    {
     "name": "stdout",
     "output_type": "stream",
     "text": [
      "0.4205335133893541\n",
      "val_score --> 0.3551058579513972\n"
     ]
    },
    {
     "name": "stderr",
     "output_type": "stream",
     "text": [
      "[4 / 8] Train: Loss = 0.34828: 100%|██████████| 1215/1215 [06:57<00:00,  2.91it/s] \n",
      "  0%|          | 0/1215 [00:00<?, ?it/s]"
     ]
    },
    {
     "name": "stdout",
     "output_type": "stream",
     "text": [
      "val_score --> 0.3654805159195679\n"
     ]
    },
    {
     "name": "stderr",
     "output_type": "stream",
     "text": [
      "[5 / 8] Train: Loss = 0.36984:  58%|█████▊    | 700/1215 [03:38<02:40,  3.20it/s]"
     ]
    },
    {
     "name": "stdout",
     "output_type": "stream",
     "text": [
      "0.4620568586022232\n",
      "val_score --> 0.36510994459601276\n"
     ]
    },
    {
     "name": "stderr",
     "output_type": "stream",
     "text": [
      "[5 / 8] Train: Loss = 0.33750: 100%|██████████| 1215/1215 [06:58<00:00,  2.91it/s] \n",
      "  0%|          | 0/1215 [00:00<?, ?it/s]"
     ]
    },
    {
     "name": "stdout",
     "output_type": "stream",
     "text": [
      "val_score --> 0.3633976688914229\n"
     ]
    },
    {
     "name": "stderr",
     "output_type": "stream",
     "text": [
      "[6 / 8] Train: Loss = 0.31715:  58%|█████▊    | 700/1215 [03:35<02:40,  3.21it/s]"
     ]
    },
    {
     "name": "stdout",
     "output_type": "stream",
     "text": [
      "0.4944177862709961\n",
      "val_score --> 0.36164061458763896\n"
     ]
    },
    {
     "name": "stderr",
     "output_type": "stream",
     "text": [
      "[6 / 8] Train: Loss = 0.32649: 100%|██████████| 1215/1215 [06:55<00:00,  2.93it/s] \n",
      "  0%|          | 0/1215 [00:00<?, ?it/s]"
     ]
    },
    {
     "name": "stdout",
     "output_type": "stream",
     "text": [
      "val_score --> 0.3705204343088673\n"
     ]
    },
    {
     "name": "stderr",
     "output_type": "stream",
     "text": [
      "[7 / 8] Train: Loss = 0.33652:  58%|█████▊    | 700/1215 [03:38<02:40,  3.22it/s]"
     ]
    },
    {
     "name": "stdout",
     "output_type": "stream",
     "text": [
      "0.5318739491087484\n",
      "val_score --> 0.3653759111880594\n"
     ]
    },
    {
     "name": "stderr",
     "output_type": "stream",
     "text": [
      "[7 / 8] Train: Loss = 0.31573: 100%|██████████| 1215/1215 [06:57<00:00,  2.91it/s] \n",
      "  0%|          | 0/1215 [00:00<?, ?it/s]"
     ]
    },
    {
     "name": "stdout",
     "output_type": "stream",
     "text": [
      "val_score --> 0.36543536671915167\n"
     ]
    },
    {
     "name": "stderr",
     "output_type": "stream",
     "text": [
      "[8 / 8] Train: Loss = 0.22551:  58%|█████▊    | 700/1215 [03:32<02:36,  3.28it/s]"
     ]
    },
    {
     "name": "stdout",
     "output_type": "stream",
     "text": [
      "0.558413434649476\n"
     ]
    },
    {
     "name": "stderr",
     "output_type": "stream",
     "text": [
      "\r",
      "[8 / 8] Train: Loss = 0.22551:  58%|█████▊    | 701/1215 [04:09<1:37:46, 11.41s/it]"
     ]
    },
    {
     "name": "stdout",
     "output_type": "stream",
     "text": [
      "val_score --> 0.3656371417972661\n"
     ]
    },
    {
     "name": "stderr",
     "output_type": "stream",
     "text": [
      "[8 / 8] Train: Loss = 0.30621: 100%|██████████| 1215/1215 [06:45<00:00,  2.99it/s] \n"
     ]
    },
    {
     "name": "stdout",
     "output_type": "stream",
     "text": [
      "val_score --> 0.36819626566122515\n"
     ]
    }
   ],
   "source": [
    "trainer.fit()"
   ]
  },
  {
   "cell_type": "markdown",
   "metadata": {
    "heading_collapsed": true
   },
   "source": [
    "### Prediction part"
   ]
  },
  {
   "cell_type": "code",
   "execution_count": null,
   "metadata": {
    "ExecuteTime": {
     "end_time": "2020-01-30T17:45:09.168122Z",
     "start_time": "2020-01-30T17:45:08.026Z"
    },
    "code_folding": [
     0,
     7,
     16
    ],
    "hidden": true
   },
   "outputs": [],
   "source": [
    "def create_model(model_file):\n",
    "    model = QuestModel()\n",
    "    model.load_state_dict(torch.load(model_file))\n",
    "    model = model.cuda()\n",
    "    return model\n",
    "\n",
    "\n",
    "def predict_test(test_loader, new_model):\n",
    "    test_preds_lst = []\n",
    "    with torch.no_grad():\n",
    "        for batch_id, batch_seg in tqdm(test_loader):\n",
    "            logits = new_model(batch_id.cuda(), batch_seg.cuda())\n",
    "            test_preds_lst.append(to_numpy(logits)) \n",
    "    return test_preds_lst\n",
    "\n",
    "\n",
    "def _get_target_cols():\n",
    "    submission = pd.read_csv(os.path.join(DATA_DIR, 'sample_submission.csv'))\n",
    "    target_columns = submission.columns.values[1:].tolist()  \n",
    "    return target_columns"
   ]
  },
  {
   "cell_type": "code",
   "execution_count": null,
   "metadata": {
    "ExecuteTime": {
     "end_time": "2020-01-30T17:45:09.169396Z",
     "start_time": "2020-01-30T17:45:08.029Z"
    },
    "hidden": true
   },
   "outputs": [],
   "source": [
    "target_columns = _get_target_cols()\n",
    "test_preds_lst = []\n",
    "test_loader = get_test_loader(target_cols=target_columns)\n",
    "for i_model in tqdm_notebook(range(2, 6)):\n",
    "    model = create_model(f'../data/result/models/bert_model_epoch{i_model}') \n",
    "    test_preds = predict_test(test_loader, model)\n",
    "    test_preds_lst.append(np.concatenate(test_preds))"
   ]
  },
  {
   "cell_type": "code",
   "execution_count": null,
   "metadata": {
    "ExecuteTime": {
     "end_time": "2020-01-30T17:45:09.170513Z",
     "start_time": "2020-01-30T17:45:08.031Z"
    },
    "hidden": true
   },
   "outputs": [],
   "source": [
    "sub1 = pd.read_csv('../data/result/submission/submission.csv')\n",
    "sub2 = pd.read_csv('../data/result/submission/submission2.csv')\n",
    "sub3 = pd.read_csv('../data/result/submission/submission_21_12.csv')"
   ]
  },
  {
   "cell_type": "code",
   "execution_count": null,
   "metadata": {
    "ExecuteTime": {
     "end_time": "2020-01-30T17:45:09.171828Z",
     "start_time": "2020-01-30T17:45:08.033Z"
    },
    "hidden": true,
    "scrolled": true
   },
   "outputs": [],
   "source": [
    "(sub1.mean(0) - sub2.mean(0)).head(2)"
   ]
  },
  {
   "cell_type": "code",
   "execution_count": null,
   "metadata": {
    "ExecuteTime": {
     "end_time": "2020-01-30T17:45:09.172964Z",
     "start_time": "2020-01-30T17:45:08.036Z"
    },
    "hidden": true
   },
   "outputs": [],
   "source": [
    "(sub1.mean(0) - sub3.mean(0)).head(2)"
   ]
  },
  {
   "cell_type": "code",
   "execution_count": null,
   "metadata": {
    "hidden": true
   },
   "outputs": [],
   "source": []
  },
  {
   "cell_type": "code",
   "execution_count": null,
   "metadata": {
    "hidden": true
   },
   "outputs": [],
   "source": []
  },
  {
   "cell_type": "code",
   "execution_count": null,
   "metadata": {
    "hidden": true
   },
   "outputs": [],
   "source": [
    "                   "
   ]
  }
 ],
 "metadata": {
  "kernelspec": {
   "display_name": "Python 3",
   "language": "python",
   "name": "python3"
  },
  "language_info": {
   "codemirror_mode": {
    "name": "ipython",
    "version": 3
   },
   "file_extension": ".py",
   "mimetype": "text/x-python",
   "name": "python",
   "nbconvert_exporter": "python",
   "pygments_lexer": "ipython3",
   "version": "3.7.4"
  },
  "toc": {
   "base_numbering": 1,
   "nav_menu": {},
   "number_sections": true,
   "sideBar": true,
   "skip_h1_title": false,
   "title_cell": "Table of Contents",
   "title_sidebar": "Contents",
   "toc_cell": false,
   "toc_position": {
    "height": "calc(100% - 180px)",
    "left": "10px",
    "top": "150px",
    "width": "165px"
   },
   "toc_section_display": true,
   "toc_window_display": false
  }
 },
 "nbformat": 4,
 "nbformat_minor": 2
}
